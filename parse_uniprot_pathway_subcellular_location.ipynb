{
 "cells": [
  {
   "cell_type": "code",
   "execution_count": 64,
   "metadata": {},
   "outputs": [],
   "source": [
    "import random"
   ]
  },
  {
   "cell_type": "code",
   "execution_count": 146,
   "metadata": {},
   "outputs": [],
   "source": [
    "from collections import Counter"
   ]
  },
  {
   "cell_type": "code",
   "execution_count": 115,
   "metadata": {},
   "outputs": [],
   "source": [
    "pathways = {}\n",
    "subcellular_locations = {}\n",
    "with open('data/uniprot-subcellular_location-pathway.tsv') as f:\n",
    "    header = next(f)\n",
    "    for line in f:\n",
    "        sp = line.strip().split('\\t')\n",
    "        if len(sp) > 2: #has subcellular or pathway info\n",
    "#             print(sp)\n",
    "            protein = sp[0] + '|' + sp[1]\n",
    "            for field in sp[2:]:\n",
    "                if field.startswith('SUBCELLULAR'):\n",
    "                    if protein not in subcellular_locations: subcellular_locations[protein] = []\n",
    "                    subcellular_locations[protein].append(field)\n",
    "                elif field.startswith('PATHWAY'):\n",
    "                    if protein not in pathways: pathways[protein] = []\n",
    "                    pathways[protein].append(field)"
   ]
  },
  {
   "cell_type": "code",
   "execution_count": 116,
   "metadata": {},
   "outputs": [
    {
     "data": {
      "text/plain": [
       "16589"
      ]
     },
     "execution_count": 116,
     "metadata": {},
     "output_type": "execute_result"
    }
   ],
   "source": [
    "len(subcellular_locations)"
   ]
  },
  {
   "cell_type": "code",
   "execution_count": 117,
   "metadata": {},
   "outputs": [
    {
     "data": {
      "text/plain": [
       "1163"
      ]
     },
     "execution_count": 117,
     "metadata": {},
     "output_type": "execute_result"
    }
   ],
   "source": [
    "len(pathways)"
   ]
  },
  {
   "cell_type": "code",
   "execution_count": 118,
   "metadata": {},
   "outputs": [],
   "source": [
    "def flatten(l):\n",
    "    f = []\n",
    "    for item in l:\n",
    "        if type(item) is list:\n",
    "            f += flatten(item)\n",
    "        else:\n",
    "            f.append(item)\n",
    "    return f"
   ]
  },
  {
   "cell_type": "code",
   "execution_count": 119,
   "metadata": {},
   "outputs": [
    {
     "data": {
      "text/plain": [
       "['asdf', 1, 123, 'adsf', 123, 'pqr', 'xyz']"
      ]
     },
     "execution_count": 119,
     "metadata": {},
     "output_type": "execute_result"
    }
   ],
   "source": [
    "l = ['asdf', 1, [123, 'adsf'], [123, ['pqr', 'xyz']]]\n",
    "flatten(l)"
   ]
  },
  {
   "cell_type": "code",
   "execution_count": 131,
   "metadata": {},
   "outputs": [],
   "source": [
    "import re"
   ]
  },
  {
   "cell_type": "code",
   "execution_count": 136,
   "metadata": {},
   "outputs": [
    {
     "data": {
      "text/plain": [
       "'SUBCELLULAR LOCATION: Recycling endosome . Early endosome membrane ; Lipid-anchor ; Cytoplasmic side . Golgi apparatus membrane ; Lipid-anchor ; Cytoplasmic side . Golgi apparatus, trans-Golgi network membrane ; Lipid-anchor ; Cytoplasmic side . Cytoplasmic vesicle, phagosome . Note=Recruited to recycling endosomes by DENND6A . Recruited to phagosomes containing S.aureus or M.tuberculosis . .'"
      ]
     },
     "execution_count": 136,
     "metadata": {},
     "output_type": "execute_result"
    }
   ],
   "source": [
    "location = 'SUBCELLULAR LOCATION: Recycling endosome {ECO:0000269|PubMed:22595670}. Early endosome membrane {ECO:0000269|PubMed:16962593}; Lipid-anchor {ECO:0000305}; Cytoplasmic side {ECO:0000305}. Golgi apparatus membrane {ECO:0000269|PubMed:16962593}; Lipid-anchor {ECO:0000305}; Cytoplasmic side {ECO:0000305}. Golgi apparatus, trans-Golgi network membrane {ECO:0000269|PubMed:16962593}; Lipid-anchor {ECO:0000305}; Cytoplasmic side {ECO:0000305}. Cytoplasmic vesicle, phagosome {ECO:0000269|PubMed:21255211}. Note=Recruited to recycling endosomes by DENND6A (PubMed:22595670). Recruited to phagosomes containing S.aureus or M.tuberculosis (PubMed:21255211). {ECO:0000269|PubMed:21255211, ECO:0000269|PubMed:22595670}.'    \n",
    "location = re.sub(string=location, pattern='{ECO.*?}', repl='')\n",
    "location = re.sub(string=location, pattern='\\(PubMed.*?\\)', repl='')\n",
    "location"
   ]
  },
  {
   "cell_type": "code",
   "execution_count": 165,
   "metadata": {},
   "outputs": [],
   "source": [
    "parsed_subcellular_locations = {}\n",
    "i=0\n",
    "for protein,locations in subcellular_locations.items():\n",
    "    parsed_locations = []\n",
    "    for location in locations:\n",
    "        location = location.lower()\n",
    "        location = location.replace('subcellular location: ','')\n",
    "        location = re.sub(string=location, pattern='isoform.*?:', repl='')\n",
    "        location = location.split('note')[0]\n",
    "        location = re.sub(string=location, pattern='{eco.*?}', repl='')\n",
    "        location = re.sub(string=location, pattern='\\(pubmed.*?\\)', repl='')\n",
    "        location = location.split('; ')\n",
    "        location = flatten([field.split(' {')[0] for field in location])\n",
    "        location = flatten([field.split('. ') for field in location])\n",
    "        location = flatten([field.split(', ') for field in location])\n",
    "        location = [field.strip('.').strip(' ') for field in location if len(field) > 0]\n",
    "        parsed_locations += location\n",
    "    parsed_subcellular_locations[protein] = parsed_locations"
   ]
  },
  {
   "cell_type": "code",
   "execution_count": 166,
   "metadata": {
    "scrolled": true
   },
   "outputs": [
    {
     "name": "stdout",
     "output_type": "stream",
     "text": [
      "P55039|DRG2_HUMAN\n",
      "----\n",
      "['cytoplasm']\n",
      "----\n",
      "Q8N782|ZN525_HUMAN\n",
      "----\n",
      "['nucleus']\n",
      "----\n",
      "Q9BV86|NTM1A_HUMAN\n",
      "----\n",
      "['nucleus']\n",
      "----\n",
      "Q9BW60|ELOV1_HUMAN\n",
      "----\n",
      "['endoplasmic reticulum membrane', 'multi-pass membrane protein']\n",
      "----\n",
      "Q86YM7|HOME1_HUMAN\n",
      "----\n",
      "['cytoplasm', 'cell junction', 'synapse', 'postsynaptic cell membrane', 'postsynaptic density', 'cell junction', 'synapse', 'cell projection', 'dendritic spine']\n",
      "----\n",
      "Q5T5C0|STXB5_HUMAN\n",
      "----\n",
      "['cytoplasm', 'cell membrane', 'peripheral membrane protein', 'cytoplasmic vesicle membrane', 'peripheral membrane protein', 'cytoplasmic vesicle', 'secretory vesicle', 'synaptic vesicle', 'cell junction', 'synapse']\n",
      "----\n",
      "P12318|FCG2A_HUMAN\n",
      "----\n",
      "['cell membrane', 'single-pass type i membrane protein']\n",
      "----\n",
      "Q9UFH2|DYH17_HUMAN\n",
      "----\n",
      "['cytoplasm', 'cytoskeleton', 'cilium axoneme']\n",
      "----\n",
      "Q13105|ZBT17_HUMAN\n",
      "----\n",
      "['nucleus']\n",
      "----\n",
      "Q8IZP1|TBC3A_HUMAN\n",
      "----\n",
      "['cell membrane', 'lipid-anchor']\n",
      "----\n"
     ]
    }
   ],
   "source": [
    "for s in random.sample(parsed_subcellular_locations.items(),10):\n",
    "    for x in s:\n",
    "        print(x)\n",
    "        print('----')"
   ]
  },
  {
   "cell_type": "code",
   "execution_count": 184,
   "metadata": {},
   "outputs": [],
   "source": [
    "all_locations = Counter()\n",
    "for locations in parsed_subcellular_locations.values():\n",
    "    for location in locations:\n",
    "        all_locations[location] += 1"
   ]
  },
  {
   "cell_type": "code",
   "execution_count": 185,
   "metadata": {
    "scrolled": false
   },
   "outputs": [],
   "source": [
    "all_locations = sorted(all_locations.items(), key=lambda _: _[1], reverse=True) \n",
    "top_locations = set([location for location,count in all_locations if count>20])"
   ]
  },
  {
   "cell_type": "code",
   "execution_count": 187,
   "metadata": {},
   "outputs": [],
   "source": [
    "filtered_subcellular_locations = {}\n",
    "for protein,locations in parsed_subcellular_locations.items():\n",
    "    filtered_locations = []\n",
    "    for location in locations:\n",
    "        if location in top_locations:\n",
    "            filtered_locations.append(location)\n",
    "    if len(filtered_locations) > 0:\n",
    "        filtered_subcellular_locations[protein] = filtered_locations"
   ]
  },
  {
   "cell_type": "code",
   "execution_count": 189,
   "metadata": {},
   "outputs": [
    {
     "data": {
      "text/plain": [
       "[('Q969Z4|TR19L_HUMAN',\n",
       "  ['cell membrane',\n",
       "   'single-pass type i membrane protein',\n",
       "   'cytoplasm',\n",
       "   'cytoplasm',\n",
       "   'perinuclear region']),\n",
       " ('P0C0L4|CO4A_HUMAN',\n",
       "  ['secreted',\n",
       "   'cell junction',\n",
       "   'synapse',\n",
       "   'cell projection',\n",
       "   'axon',\n",
       "   'cell projection',\n",
       "   'dendrite']),\n",
       " ('P01024|CO3_HUMAN', ['secreted']),\n",
       " ('P00742|FA10_HUMAN', ['secreted']),\n",
       " ('Q9Y3B8|ORN_HUMAN',\n",
       "  ['mitochondrion intermembrane space',\n",
       "   'mitochondrion matrix',\n",
       "   'nucleus',\n",
       "   'cytoplasm']),\n",
       " ('P07864|LDHC_HUMAN', ['cytoplasm']),\n",
       " ('Q96DZ1|ERLEC_HUMAN', ['endoplasmic reticulum lumen']),\n",
       " ('Q9BZM5|ULBP2_HUMAN',\n",
       "  ['cell membrane',\n",
       "   'lipid-anchor',\n",
       "   'gpi-anchor',\n",
       "   'endoplasmic reticulum',\n",
       "   'secreted']),\n",
       " ('Q8NEA6|GLIS3_HUMAN', ['nucleus']),\n",
       " ('P07992|ERCC1_HUMAN',\n",
       "  ['nucleus', 'cytoplasm', 'nucleus', 'nucleus', 'nucleus'])]"
      ]
     },
     "execution_count": 189,
     "metadata": {},
     "output_type": "execute_result"
    }
   ],
   "source": [
    "random.sample(filtered_subcellular_locations.items(), 10)"
   ]
  },
  {
   "cell_type": "code",
   "execution_count": 190,
   "metadata": {},
   "outputs": [
    {
     "data": {
      "text/plain": [
       "16567"
      ]
     },
     "execution_count": 190,
     "metadata": {},
     "output_type": "execute_result"
    }
   ],
   "source": [
    "len(filtered_subcellular_locations)"
   ]
  },
  {
   "cell_type": "code",
   "execution_count": 191,
   "metadata": {},
   "outputs": [],
   "source": [
    "import json"
   ]
  },
  {
   "cell_type": "code",
   "execution_count": 195,
   "metadata": {},
   "outputs": [],
   "source": [
    "json.dump(filtered_subcellular_locations, open('data/subcellular_locations.json','w'))"
   ]
  }
 ],
 "metadata": {
  "kernelspec": {
   "display_name": "Python 3",
   "language": "python",
   "name": "python3"
  },
  "language_info": {
   "codemirror_mode": {
    "name": "ipython",
    "version": 3
   },
   "file_extension": ".py",
   "mimetype": "text/x-python",
   "name": "python",
   "nbconvert_exporter": "python",
   "pygments_lexer": "ipython3",
   "version": "3.6.5"
  }
 },
 "nbformat": 4,
 "nbformat_minor": 2
}
