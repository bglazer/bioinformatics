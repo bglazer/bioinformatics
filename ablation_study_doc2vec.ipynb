{
 "cells": [
  {
   "cell_type": "code",
   "execution_count": 2,
   "metadata": {},
   "outputs": [],
   "source": [
    "from random import random, sample"
   ]
  },
  {
   "cell_type": "code",
   "execution_count": 3,
   "metadata": {},
   "outputs": [],
   "source": [
    "sample_rate = .25\n",
    "sr_str = str(int(sample_rate*100))"
   ]
  },
  {
   "cell_type": "code",
   "execution_count": 4,
   "metadata": {},
   "outputs": [],
   "source": [
    "# f = open('data/string_nonzero_experiments.csv')\n",
    "# num_links=0\n",
    "# for line in f:\n",
    "#     num_links+=1\n",
    "# print(num_links)\n",
    "\n",
    "# f = open('data/string_nonzero_experiments.csv')\n",
    "# proteins = set()\n",
    "# pairs = set()\n",
    "# uniq_pair_file = open('data/unique_string_nonzero_experiments.csv','w')\n",
    "# uniq_protein_file = open('data/unique_experiment_protein_ids.csv','w')\n",
    "\n",
    "# next(f)\n",
    "# for line in f:\n",
    "#     source, target, score = line.strip().split(',')\n",
    "    \n",
    "#     if source not in proteins:\n",
    "#         uniq_protein_file.write(source + '\\n')\n",
    "#     proteins.add(source)\n",
    "    \n",
    "#     if target not in proteins:\n",
    "#         uniq_protein_file.write(target + '\\n')\n",
    "#     proteins.add(target)\n",
    "    \n",
    "#     if (source,target) not in pairs:\n",
    "#         uniq_pair_file.write(line)\n",
    "#     pairs.add((source,target))\n",
    "\n",
    "# print(len(proteins))\n",
    "# print(len(pairs))\n",
    "# uniq_pair_file.close()\n",
    "# uniq_protein_file.close()\n",
    "\n",
    "# f = open('data/string_nonzero_experiments.csv')\n",
    "\n",
    "# train_file = open('data/protein_pairs/train_split_' + sr_str + '.dat','w')\n",
    "# test_file = open('data/protein_pairs/test_split_' + sr_str + '.dat','w')\n",
    "# validation_file = open('data/protein_pairs/validation_split_' + sr_str + '.dat','w')\n",
    "# train_neg_file = open('data/protein_pairs/train_neg_split_' + sr_str + '.dat','w')\n",
    "# test_neg_file = open('data/protein_pairs/test_neg_split_' + sr_str + '.dat','w')\n",
    "# validation_neg_file = open('data/protein_pairs/validation_neg_split_' + sr_str + '.dat','w')\n",
    "\n",
    "# header = next(f)\n",
    "# train_file.write(header)\n",
    "# test_file.write(header)\n",
    "# validation_file.write(header)\n",
    "\n",
    "# for line in f:\n",
    "#     r = random()\n",
    "#     negative = tuple(sample(proteins, 2))\n",
    "#     while negative in pairs:\n",
    "#         negative = tuple(sample(proteins, 2))\n",
    "#     # Training set size determined by sampling rate\n",
    "#     if r >= sample_rate:\n",
    "#         train_file.write(line)\n",
    "#         train_neg_file.write(','.join(negative) + ',0\\n')\n",
    "#     else:\n",
    "#         # Split non-training data into test/validation equally\n",
    "#         r = random()\n",
    "#         if r >= .5:\n",
    "#             test_file.write(line)\n",
    "#             test_neg_file.write(','.join(negative) + ',0\\n')\n",
    "#         else:\n",
    "#             validation_file.write(line)\n",
    "#             validation_neg_file.write(','.join(negative) + ',0\\n')\n",
    "\n",
    "\n",
    "# train_file.close()\n",
    "# test_file.close()\n",
    "# validation_file.close()\n",
    "# train_neg_file.close()\n",
    "# test_neg_file.close()\n",
    "# validation_neg_file.close()\n",
    "# f.close()"
   ]
  },
  {
   "cell_type": "code",
   "execution_count": 5,
   "metadata": {},
   "outputs": [
    {
     "name": "stderr",
     "output_type": "stream",
     "text": [
      "C:\\dev\\Anaconda3\\lib\\site-packages\\gensim\\utils.py:1209: UserWarning: detected Windows; aliasing chunkize to chunkize_serial\n",
      "  warnings.warn(\"detected Windows; aliasing chunkize to chunkize_serial\")\n"
     ]
    }
   ],
   "source": [
    "import gensim\n",
    "from node2vec import Node2Vec"
   ]
  },
  {
   "cell_type": "code",
   "execution_count": 6,
   "metadata": {},
   "outputs": [
    {
     "name": "stderr",
     "output_type": "stream",
     "text": [
      "C:\\dev\\Anaconda3\\lib\\site-packages\\h5py\\__init__.py:36: FutureWarning: Conversion of the second argument of issubdtype from `float` to `np.floating` is deprecated. In future, it will be treated as `np.float64 == np.dtype(float).type`.\n",
      "  from ._conv import register_converters as _register_converters\n",
      "Using TensorFlow backend.\n"
     ]
    }
   ],
   "source": [
    "import keras\n",
    "import tensorflow as tf\n",
    "import numpy as np"
   ]
  },
  {
   "cell_type": "code",
   "execution_count": 7,
   "metadata": {},
   "outputs": [],
   "source": [
    "class Sequences:\n",
    "    def __init__(self, filename):\n",
    "        self.filename = filename\n",
    "        self.f = open(self.filename)\n",
    "    \n",
    "    # this function is called each epoch of gensim training\n",
    "    def __iter__(self):\n",
    "        self.f = open(self.filename)\n",
    "        return self\n",
    "    \n",
    "    def __next__(self):\n",
    "        line = next(self.f)\n",
    "        id,sequence = line.strip().split(',')\n",
    "        sequence = sequence.split(' ')\n",
    "        return gensim.models.doc2vec.TaggedDocument(tags=[id], words=sequence)"
   ]
  },
  {
   "cell_type": "code",
   "execution_count": 8,
   "metadata": {},
   "outputs": [],
   "source": [
    "from keras.models import Sequential\n",
    "from keras.layers import Dense, Dropout"
   ]
  },
  {
   "cell_type": "code",
   "execution_count": 9,
   "metadata": {},
   "outputs": [],
   "source": [
    "from sklearn.metrics import classification_report, precision_recall_curve, precision_score, recall_score, accuracy_score, f1_score"
   ]
  },
  {
   "cell_type": "code",
   "execution_count": 10,
   "metadata": {},
   "outputs": [],
   "source": [
    "from sklearn.utils.fixes import signature\n",
    "import matplotlib.pyplot as plt\n",
    "\n",
    "from sklearn.metrics import roc_curve, roc_auc_score\n",
    "from sklearn.metrics import average_precision_score"
   ]
  },
  {
   "cell_type": "code",
   "execution_count": 11,
   "metadata": {},
   "outputs": [],
   "source": [
    "d2v_epochs = 21\n",
    "d2v_vector_size = 99\n",
    "d2v_window = 8\n",
    "d2v_min_count = 9\n",
    "n2v_dimensions = 104\n",
    "n2v_window = 6\n",
    "n2v_epochs = 30\n",
    "n2v_num_walks = 32\n",
    "n2v_walk_length = 27\n",
    "n2v_p = 4\n",
    "n2v_q = 2\n",
    "nn_dropout = 0.22818154872598262"
   ]
  },
  {
   "cell_type": "markdown",
   "metadata": {},
   "source": [
    "### Doc2Vec only"
   ]
  },
  {
   "cell_type": "code",
   "execution_count": null,
   "metadata": {},
   "outputs": [],
   "source": [
    "training_edgelist_file = 'data/protein_pairs/train_split_' + sr_str + '.dat'\n",
    "\n",
    "# print('Training Node2Vec'.center(80,'-'))\n",
    "# n2v = Node2Vec()\n",
    "# model = n2v.fit_transform(training_edgelist_file,\n",
    "#                           dimensions=n2v_dimensions, \n",
    "#                           window=n2v_window,\n",
    "#                           epochs=n2v_epochs,\n",
    "#                           num_walks=n2v_num_walks, \n",
    "#                           walk_length=n2v_walk_length, \n",
    "#                           p=n2v_p, \n",
    "#                           q=n2v_q,\n",
    "#                          )\n",
    "\n",
    "# n2v.model.save('models/node2vec.model')\n",
    "\n",
    "# vectorfilename = 'data/vectors/node2vec_sample{}_p{}_q{}.dat'.format(sr_str, p, q)\n",
    "# vector_file = open(vectorfilename, 'w')\n",
    "# for i,n in enumerate(n2v.G.nodes):\n",
    "#     vector_file.write(n + ',' + ','.join([str(_) for _ in model.wv.vectors[i,:]]) + '\\n')\n",
    "# vector_file.close()\n",
    "\n",
    "# print('Node2Vec similarity to BRCA1'.center(80,'-'))\n",
    "# for v in n2v.model.wv.most_similar('P38398|BRCA1_HUMAN'):\n",
    "#     print(v)\n",
    "\n",
    "#### doc2vec\n",
    "\n",
    "filename = 'data/split_human_uniprot_sequences.dat'\n",
    "sequences = Sequences(filename)\n",
    "print('Training doc2vec'.center(80,'-'))\n",
    "\n",
    "doc2vec = gensim.models.Doc2Vec(\n",
    "    documents=sequences,\n",
    "    epochs=d2v_epochs,\n",
    "    dm=1,\n",
    "    vector_size=d2v_vector_size,\n",
    "    window=d2v_window,\n",
    "    min_count=d2v_min_count\n",
    ")\n",
    "\n",
    "doc2vec.save('models/doc2vec.model')\n",
    "\n",
    "print('Doc2Vec similarity to BRCA1'.center(80,'-'))\n",
    "for v in doc2vec.docvecs.most_similar(positive=['P38398|BRCA1_HUMAN']):\n",
    "    print(v)"
   ]
  },
  {
   "cell_type": "code",
   "execution_count": 28,
   "metadata": {},
   "outputs": [
    {
     "name": "stdout",
     "output_type": "stream",
     "text": [
      "------------------Generating Training and validation datasets-------------------\n",
      "Training data shape\n",
      "x (513682, 198)\n",
      "y (513682, 1)\n"
     ]
    }
   ],
   "source": [
    "vectors = dict()\n",
    "for protein in doc2vec.docvecs.doctags:\n",
    "    v = doc2vec[protein]\n",
    "    vectors[protein] = v\n",
    "\n",
    "print('Generating Training and validation datasets'.center(80,'-'))\n",
    "\n",
    "train_file = open('data/protein_pairs/train_split_' + sr_str + '.dat')\n",
    "header = next(train_file)\n",
    "x_train = []\n",
    "y_train = []\n",
    "\n",
    "for line in train_file:\n",
    "    source, target, score = line.strip().split(',')\n",
    "    if source in vectors and target in vectors:\n",
    "        vs = vectors[source]\n",
    "        vt = vectors[target]\n",
    "        x_train.append(np.append(vs,vt))\n",
    "        y_train.append(np.array([1]))\n",
    "\n",
    "train_neg_file = open('data/protein_pairs/train_neg_split_' + sr_str + '.dat')\n",
    "header = next(train_neg_file)\n",
    "\n",
    "for line in train_neg_file:\n",
    "    source, target, score = line.strip().split(',')\n",
    "    if source in vectors and target in vectors:\n",
    "        vs = vectors[source]\n",
    "        vt = vectors[target]\n",
    "        x_train.append(np.append(vs,vt))\n",
    "        y_train.append(np.array([0]))\n",
    "\n",
    "x_train = np.array(x_train)\n",
    "y_train = np.array(y_train)\n",
    "\n",
    "print('Training data shape')\n",
    "print('x',x_train.shape)\n",
    "print('y',y_train.shape)\n",
    "\n",
    "validation_file = open('data/protein_pairs/validation_split_' + sr_str + '.dat')\n",
    "header = next(validation_file)\n",
    "x_validation = []\n",
    "y_validation = []\n",
    "\n",
    "for line in validation_file:\n",
    "    source, target, score = line.strip().split(',')\n",
    "    if source in vectors and target in vectors:\n",
    "        vs = vectors[source]\n",
    "        vt = vectors[target]\n",
    "        x_validation.append(np.append(vs,vt))\n",
    "#             y_validation.append(np.array([1,0]))\n",
    "        y_validation.append(np.array([1]))\n",
    "\n",
    "validation_neg_file = open('data/protein_pairs/validation_neg_split_' + sr_str + '.dat')\n",
    "header = next(validation_neg_file)"
   ]
  },
  {
   "cell_type": "code",
   "execution_count": 29,
   "metadata": {},
   "outputs": [
    {
     "name": "stdout",
     "output_type": "stream",
     "text": [
      "(86308, 198)\n",
      "(86308, 1)\n"
     ]
    }
   ],
   "source": [
    "for line in validation_neg_file:\n",
    "    source, target, score = line.strip().split(',')\n",
    "    if source in vectors and target in vectors:\n",
    "        vs = vectors[source]\n",
    "        vt = vectors[target]\n",
    "        x_validation.append(np.append(vs,vt))\n",
    "#             y_validation.append(np.array([0,1]))\n",
    "        y_validation.append(np.array([0]))\n",
    "\n",
    "x_validation = np.array(x_validation)\n",
    "y_validation = np.array(y_validation)\n",
    "\n",
    "print(x_validation.shape)\n",
    "print(y_validation.shape)"
   ]
  },
  {
   "cell_type": "code",
   "execution_count": 31,
   "metadata": {},
   "outputs": [
    {
     "name": "stdout",
     "output_type": "stream",
     "text": [
      "----------------------------Training Neural Network-----------------------------\n",
      "Epoch 1/10\n",
      "513682/513682 [==============================] - 83s 162us/step - loss: 0.6231 - binary_accuracy: 0.6579\n",
      "Epoch 2/10\n",
      "513682/513682 [==============================] - 79s 154us/step - loss: 0.5889 - binary_accuracy: 0.69380s - loss: 0.5889 - binary_accuracy: 0.\n",
      "Epoch 3/10\n",
      "513682/513682 [==============================] - 79s 153us/step - loss: 0.5737 - binary_accuracy: 0.70898s - loss: 0.5736 - binary_accuracy: 0.7 - ETA: 0s - loss: 0.5737 - binary_accuracy: 0.708\n",
      "Epoch 4/10\n",
      "513682/513682 [==============================] - 80s 156us/step - loss: 0.5639 - binary_accuracy: 0.71924s - loss: 0.\n",
      "Epoch 5/10\n",
      "513682/513682 [==============================] - 80s 156us/step - loss: 0.5571 - binary_accuracy: 0.7256\n",
      "Epoch 6/10\n",
      "513682/513682 [==============================] - 80s 156us/step - loss: 0.5515 - binary_accuracy: 0.7324: 10s - lo - - ETA: 6s - loss: 0.5514 - bin - ETA: 5s - - ETA: 3s - los - ETA: 1s - loss: 0.551\n",
      "Epoch 7/10\n",
      "513682/513682 [==============================] - 80s 155us/step - loss: 0.5478 - binary_accuracy: 0.73701s - loss: 0.5476 - bi - ETA: 0s - loss: 0.5477 - binary_accuracy: 0.7 - ETA: 0s - loss: 0.5478 - binary_accuracy: 0.\n",
      "Epoch 8/10\n",
      "513682/513682 [==============================] - 80s 156us/step - loss: 0.5446 - binary_accuracy: 0.74012\n",
      "Epoch 9/10\n",
      "513682/513682 [==============================] - 80s 156us/step - loss: 0.5422 - binary_accuracy: 0.74390s - loss: 0.5422 - binary_accurac\n",
      "Epoch 10/10\n",
      "513682/513682 [==============================] - 80s 156us/step - loss: 0.5408 - binary_accuracy: 0.745315s - loss: 0.5401 - binary_ - ETA: 14s - lo - ETA: 13s - loss: 0.5403 - binary_accuracy: 0.74 - ETA: 13s - loss - ETA: 12s - loss: 0.5402 - binary_accuracy: 0. - ETA: 12s -  - ETA: 11\n",
      "513682/513682 [==============================] - 6s 13us/step\n",
      "86308/86308 [==============================] - 1s 12us/step\n",
      "Training accuracy: \n",
      "[0.49589018026330184, 0.7724428732175144]\n"
     ]
    }
   ],
   "source": [
    "print('Training Neural Network'.center(80,'-'))\n",
    "\n",
    "model = Sequential()\n",
    "\n",
    "# input_size = (d2v_vector_size + n2v_dimensions)*2\n",
    "input_size = (d2v_vector_size)*2\n",
    "\n",
    "model.add(Dense(units=256, activation='relu', input_dim=input_size))\n",
    "model.add(Dropout(nn_dropout))\n",
    "model.add(Dense(units=128, activation='relu', input_dim=256))\n",
    "model.add(Dropout(nn_dropout))\n",
    "model.add(Dense(units=64, activation='relu', input_dim=128))\n",
    "model.add(Dropout(nn_dropout))\n",
    "model.add(Dense(units=1, activation='sigmoid'))\n",
    "\n",
    "model.compile(loss='binary_crossentropy',\n",
    "              optimizer='rmsprop',\n",
    "              metrics=['binary_accuracy'])\n",
    "\n",
    "# x_train and y_train are Numpy arrays --just like in the Scikit-Learn API.\n",
    "model.fit(x_train, y_train, epochs=10, batch_size=32)\n",
    "\n",
    "training_accuracy = model.evaluate(x_train, y_train, batch_size=128)\n",
    "validation_accuracy = model.evaluate(x_validation, y_validation, batch_size=128)\n",
    "print('Training accuracy: ')\n",
    "print(training_accuracy)"
   ]
  },
  {
   "cell_type": "markdown",
   "metadata": {},
   "source": [
    "#### Generating test data"
   ]
  },
  {
   "cell_type": "code",
   "execution_count": 32,
   "metadata": {},
   "outputs": [
    {
     "name": "stdout",
     "output_type": "stream",
     "text": [
      "(85612, 198)\n",
      "(85612, 1)\n"
     ]
    }
   ],
   "source": [
    "test_file = open('data/protein_pairs/test_split_' + sr_str + '.dat')\n",
    "header = next(test_file)\n",
    "x_test = []\n",
    "y_test = []\n",
    "\n",
    "for line in test_file:\n",
    "    source, target, score = line.strip().split(',')\n",
    "    if source in vectors and target in vectors:\n",
    "        vs = vectors[source]\n",
    "        vt = vectors[target]\n",
    "        x_test.append(np.append(vs,vt))\n",
    "#             y_test.append(np.array([1,0]))\n",
    "        y_test.append(np.array([1]))\n",
    "\n",
    "test_neg_file = open('data/protein_pairs/test_neg_split_' + sr_str + '.dat')\n",
    "header = next(test_neg_file)\n",
    "\n",
    "for line in test_neg_file:\n",
    "    source, target, score = line.strip().split(',')\n",
    "    if source in vectors and target in vectors:\n",
    "        vs = vectors[source]\n",
    "        vt = vectors[target]\n",
    "        x_test.append(np.append(vs,vt))\n",
    "#             y_test.append(np.array([0,1]))\n",
    "        y_test.append(np.array([0]))\n",
    "\n",
    "x_test = np.array(x_test)\n",
    "y_test = np.array(y_test)\n",
    "\n",
    "print(x_test.shape)\n",
    "print(y_test.shape)"
   ]
  },
  {
   "cell_type": "markdown",
   "metadata": {},
   "source": [
    "### Validation"
   ]
  },
  {
   "cell_type": "code",
   "execution_count": 33,
   "metadata": {},
   "outputs": [
    {
     "name": "stdout",
     "output_type": "stream",
     "text": [
      "86308/86308 [==============================] - 1s 13us/step\n",
      "Validation accuracy: {}\n",
      "[0.5318305558036122, 0.7406150067173563]\n"
     ]
    }
   ],
   "source": [
    "validation_accuracy = model.evaluate(x_validation, y_validation, batch_size=128)\n",
    "print('Validation accuracy: {}')\n",
    "print(validation_accuracy)\n",
    "\n",
    "# model.train_on_batch(x_batch, y_batch)\n",
    "\n",
    "y_validation_pred = model.predict_proba(x=x_validation)\n",
    "\n",
    "average_precision = average_precision_score(y_true=y_validation, y_score=y_validation_pred)"
   ]
  },
  {
   "cell_type": "code",
   "execution_count": 34,
   "metadata": {},
   "outputs": [
    {
     "name": "stdout",
     "output_type": "stream",
     "text": [
      "Average precision-recall score: 0.82069\n"
     ]
    },
    {
     "data": {
      "text/plain": [
       "Text(0.5,1,'2-class Precision-Recall curve: AP=0.82069')"
      ]
     },
     "execution_count": 34,
     "metadata": {},
     "output_type": "execute_result"
    },
    {
     "data": {
      "image/png": "[encoded data removed]",
      "text/plain": [
       "<Figure size 432x288 with 1 Axes>"
      ]
     },
     "metadata": {},
     "output_type": "display_data"
    }
   ],
   "source": [
    "print('Average precision-recall score: {0:0.5f}'.format(\n",
    "      average_precision))\n",
    "\n",
    "precision, recall, _ = precision_recall_curve(y_true=y_validation, probas_pred=y_validation_pred)\n",
    "\n",
    "# In matplotlib < 1.5, plt.fill_between does not have a 'step' argument\n",
    "step_kwargs = ({'step': 'post'}\n",
    "               if 'step' in signature(plt.fill_between).parameters\n",
    "               else {})\n",
    "plt.step(recall, precision, color='b', alpha=0.2,\n",
    "         where='post')\n",
    "plt.fill_between(recall, precision, alpha=0.2, color='b', **step_kwargs)\n",
    "\n",
    "plt.xlabel('Recall')\n",
    "plt.ylabel('Precision')\n",
    "plt.ylim([0.0, 1.05])\n",
    "plt.xlim([0.0, 1.0])\n",
    "plt.title('2-class Precision-Recall curve: AP={0:0.5f}'.format(average_precision))"
   ]
  },
  {
   "cell_type": "code",
   "execution_count": 35,
   "metadata": {},
   "outputs": [
    {
     "data": {
      "text/plain": [
       "Text(0.5,1,'2-class ROC curve: AP=0.81457')"
      ]
     },
     "execution_count": 35,
     "metadata": {},
     "output_type": "execute_result"
    },
    {
     "data": {
      "image/png": "[encoded data removed]",
      "text/plain": [
       "<Figure size 432x288 with 1 Axes>"
      ]
     },
     "metadata": {},
     "output_type": "display_data"
    }
   ],
   "source": [
    "fpr, tpr, _ = roc_curve(y_true=y_validation, y_score=y_validation_pred)\n",
    "auroc = roc_auc_score(y_true=y_validation, y_score=y_validation_pred)\n",
    "\n",
    "# In matplotlib < 1.5, plt.fill_between does not have a 'step' argument\n",
    "step_kwargs = ({'step': 'post'}\n",
    "               if 'step' in signature(plt.fill_between).parameters\n",
    "               else {})\n",
    "plt.step(fpr, tpr, color='b', alpha=0.2,\n",
    "         where='post')\n",
    "plt.fill_between(fpr, tpr, alpha=0.2, color='b', **step_kwargs)\n",
    "\n",
    "plt.xlabel('False Positive Rate')\n",
    "plt.ylabel('True Positive Rate')\n",
    "plt.ylim([0.0, 1.05])\n",
    "plt.xlim([0.0, 1.0])\n",
    "plt.title('2-class ROC curve: AP={0:0.5f}'.format(auroc))"
   ]
  },
  {
   "cell_type": "markdown",
   "metadata": {},
   "source": [
    "### Test"
   ]
  },
  {
   "cell_type": "code",
   "execution_count": 36,
   "metadata": {},
   "outputs": [
    {
     "name": "stdout",
     "output_type": "stream",
     "text": [
      "85612/85612 [==============================] - 1s 16us/step\n",
      "Validation accuracy: {}\n",
      "[0.5338048830587319, 0.7412862682550838]\n"
     ]
    }
   ],
   "source": [
    "test_accuracy = model.evaluate(x_test, y_test, batch_size=128)\n",
    "print('Validation accuracy: {}')\n",
    "print(test_accuracy)\n",
    "\n",
    "# model.train_on_batch(x_batch, y_batch)\n",
    "\n",
    "y_test_pred = model.predict_proba(x=x_test)\n",
    "\n",
    "average_precision = average_precision_score(y_true=y_test, y_score=y_test_pred)"
   ]
  },
  {
   "cell_type": "code",
   "execution_count": 37,
   "metadata": {},
   "outputs": [
    {
     "name": "stdout",
     "output_type": "stream",
     "text": [
      "Average precision-recall score: 0.81937\n"
     ]
    },
    {
     "data": {
      "text/plain": [
       "Text(0.5,1,'2-class Precision-Recall curve: AP=0.81937')"
      ]
     },
     "execution_count": 37,
     "metadata": {},
     "output_type": "execute_result"
    },
    {
     "data": {
      "image/png": "[encoded data removed]",
      "text/plain": [
       "<Figure size 432x288 with 1 Axes>"
      ]
     },
     "metadata": {},
     "output_type": "display_data"
    }
   ],
   "source": [
    "print('Average precision-recall score: {0:0.5f}'.format(\n",
    "      average_precision))\n",
    "\n",
    "precision, recall, _ = precision_recall_curve(y_true=y_test, probas_pred=y_test_pred)\n",
    "\n",
    "# In matplotlib < 1.5, plt.fill_between does not have a 'step' argument\n",
    "step_kwargs = ({'step': 'post'}\n",
    "               if 'step' in signature(plt.fill_between).parameters\n",
    "               else {})\n",
    "plt.step(recall, precision, color='b', alpha=0.2,\n",
    "         where='post')\n",
    "plt.fill_between(recall, precision, alpha=0.2, color='b', **step_kwargs)\n",
    "\n",
    "plt.xlabel('Recall')\n",
    "plt.ylabel('Precision')\n",
    "plt.ylim([0.0, 1.05])\n",
    "plt.xlim([0.0, 1.0])\n",
    "plt.title('2-class Precision-Recall curve: AP={0:0.5f}'.format(average_precision))"
   ]
  },
  {
   "cell_type": "code",
   "execution_count": 38,
   "metadata": {},
   "outputs": [
    {
     "data": {
      "text/plain": [
       "Text(0.5,1,'2-class ROC curve: AP=0.81327')"
      ]
     },
     "execution_count": 38,
     "metadata": {},
     "output_type": "execute_result"
    },
    {
     "data": {
      "image/png": "[encoded data removed]",
      "text/plain": [
       "<Figure size 432x288 with 1 Axes>"
      ]
     },
     "metadata": {},
     "output_type": "display_data"
    }
   ],
   "source": [
    "fpr, tpr, _ = roc_curve(y_true=y_test, y_score=y_test_pred)\n",
    "auroc = roc_auc_score(y_true=y_test, y_score=y_test_pred)\n",
    "\n",
    "# In matplotlib < 1.5, plt.fill_between does not have a 'step' argument\n",
    "step_kwargs = ({'step': 'post'}\n",
    "               if 'step' in signature(plt.fill_between).parameters\n",
    "               else {})\n",
    "plt.step(fpr, tpr, color='b', alpha=0.2,\n",
    "         where='post')\n",
    "plt.fill_between(fpr, tpr, alpha=0.2, color='b', **step_kwargs)\n",
    "\n",
    "plt.xlabel('False Positive Rate')\n",
    "plt.ylabel('True Positive Rate')\n",
    "plt.ylim([0.0, 1.05])\n",
    "plt.xlim([0.0, 1.0])\n",
    "plt.title('2-class ROC curve: AP={0:0.5f}'.format(auroc))"
   ]
  },
  {
   "cell_type": "code",
   "execution_count": null,
   "metadata": {},
   "outputs": [],
   "source": []
  }
 ],
 "metadata": {
  "kernelspec": {
   "display_name": "Python 3",
   "language": "python",
   "name": "python3"
  },
  "language_info": {
   "codemirror_mode": {
    "name": "ipython",
    "version": 3
   },
   "file_extension": ".py",
   "mimetype": "text/x-python",
   "name": "python",
   "nbconvert_exporter": "python",
   "pygments_lexer": "ipython3",
   "version": "3.6.5"
  }
 },
 "nbformat": 4,
 "nbformat_minor": 2
}
