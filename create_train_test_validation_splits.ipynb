{
 "cells": [
  {
   "cell_type": "code",
   "execution_count": 2,
   "metadata": {},
   "outputs": [
    {
     "name": "stdout",
     "output_type": "stream",
     "text": [
      "357945\n"
     ]
    }
   ],
   "source": [
    "f = open('data/string_nonzero_experiments.csv')\n",
    "num_links=0\n",
    "for line in f:\n",
    "    num_links+=1\n",
    "print(num_links)"
   ]
  },
  {
   "cell_type": "code",
   "execution_count": 7,
   "metadata": {},
   "outputs": [],
   "source": [
    "from random import random, sample"
   ]
  },
  {
   "cell_type": "code",
   "execution_count": 20,
   "metadata": {},
   "outputs": [
    {
     "name": "stdout",
     "output_type": "stream",
     "text": [
      "14795\n",
      "349276\n"
     ]
    }
   ],
   "source": [
    "f = open('data/string_nonzero_experiments.csv')\n",
    "proteins = set()\n",
    "pairs = set()\n",
    "uniq_pair_file = open('data/unique_string_nonzero_experiments.csv','w')\n",
    "uniq_protein_file = open('data/unique_experiment_protein_ids.csv','w')\n",
    "\n",
    "next(f)\n",
    "for line in f:\n",
    "    source, target, score = line.strip().split(',')\n",
    "    \n",
    "    if source not in proteins:\n",
    "        uniq_protein_file.write(source + '\\n')\n",
    "    proteins.add(source)\n",
    "    \n",
    "    if target not in proteins:\n",
    "        uniq_protein_file.write(target + '\\n')\n",
    "    proteins.add(target)\n",
    "    \n",
    "    if (source,target) not in pairs:\n",
    "        uniq_pair_file.write(line)\n",
    "    pairs.add((source,target))\n",
    "\n",
    "print(len(proteins))\n",
    "print(len(pairs))\n",
    "uniq_pair_file.close()\n",
    "uniq_protein_file.close()"
   ]
  },
  {
   "cell_type": "code",
   "execution_count": 24,
   "metadata": {},
   "outputs": [],
   "source": [
    "for sample_rate in [.25,.5,.75]:\n",
    "    f = open('data/string_nonzero_experiments.csv')\n",
    "    train_file = open('data/no_cutoff/train_split_' + str(int(sample_rate*100)) + '.dat','w')\n",
    "    test_file = open('data/no_cutoff/test_split_' + str(int(sample_rate*100)) + '.dat','w')\n",
    "    validation_file = open('data/no_cutoff/validation_split_' + str(int(sample_rate*100)) + '.dat','w')\n",
    "    \n",
    "    header = next(f)\n",
    "    train_file.write(header)\n",
    "    test_file.write(header)\n",
    "    validation_file.write(header)\n",
    "\n",
    "    for line in f:\n",
    "        r = random()\n",
    "        # Training set size determined by sampling rate\n",
    "        if r >= sample_rate:\n",
    "            train_file.write(line)\n",
    "            negative = tuple(sample(proteins, 2))\n",
    "            while negative in pairs:\n",
    "                negative = tuple(sample(proteins, 2))\n",
    "            train_file.write(','.join(negative) + ',0\\n')\n",
    "        else:\n",
    "            # Split non-training data into test/validation equally\n",
    "            r = random()\n",
    "            if r >= .5:\n",
    "                test_file.write(line)\n",
    "            else:\n",
    "                validation_file.write(line)\n",
    "                \n",
    "    train_file.close()\n",
    "    test_file.close()\n",
    "    validation_file.close()\n",
    "    f.close()"
   ]
  }
 ],
 "metadata": {
  "kernelspec": {
   "display_name": "Python 3",
   "language": "python",
   "name": "python3"
  },
  "language_info": {
   "codemirror_mode": {
    "name": "ipython",
    "version": 3
   },
   "file_extension": ".py",
   "mimetype": "text/x-python",
   "name": "python",
   "nbconvert_exporter": "python",
   "pygments_lexer": "ipython3",
   "version": "3.6.5"
  }
 },
 "nbformat": 4,
 "nbformat_minor": 2
}
