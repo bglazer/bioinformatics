{
 "cells": [
  {
   "cell_type": "code",
   "execution_count": 11,
   "metadata": {},
   "outputs": [],
   "source": [
    "f = open('data/uniprot_sprot.fasta')\n",
    "outfile = open('data/parsed_uniprot_sequences.dat','w')"
   ]
  },
  {
   "cell_type": "code",
   "execution_count": 12,
   "metadata": {},
   "outputs": [],
   "source": [
    "sequence = ''\n",
    "\n",
    "for line in f:\n",
    "    if line[0] == '>':\n",
    "        _, uniprot_ac, protein_info = line.split('|')\n",
    "        protein_id = protein_info.split(' ')[0]\n",
    "        outfile.write(uniprot_ac + '|' + protein_id + ',')\n",
    "        outfile.write(sequence + '\\n')\n",
    "        sequence = ''\n",
    "    else:\n",
    "        sequence += line.strip()"
   ]
  },
  {
   "cell_type": "code",
   "execution_count": 13,
   "metadata": {},
   "outputs": [],
   "source": [
    "outfile.close()"
   ]
  },
  {
   "cell_type": "code",
   "execution_count": 14,
   "metadata": {},
   "outputs": [],
   "source": [
    "f = open('data/parsed_uniprot_sequences.dat')\n",
    "outfile = open('data/split_uniprot_sequences.dat','w')\n",
    "human_outfile = open('data/split_human_uniprot_sequences.dat','w')"
   ]
  },
  {
   "cell_type": "code",
   "execution_count": 15,
   "metadata": {},
   "outputs": [],
   "source": [
    "wordsize = 3\n",
    "for line in f:\n",
    "    id,sequence = line.strip().split(',')\n",
    "    \n",
    "    for i in range(0, wordsize):\n",
    "        words = ''\n",
    "        for j in range(i, len(sequence), wordsize):\n",
    "            word = sequence[j:j+wordsize]\n",
    "            # Strip off short amino acid \"words\" at the end of the sequence\n",
    "            if len(word) == wordsize:\n",
    "                words += ' ' + word\n",
    "        outfile.write(id + ',' + words + '\\n')\n",
    "        if 'HUMAN' in id:\n",
    "            human_outfile.write(id + ',' + words + '\\n')"
   ]
  },
  {
   "cell_type": "code",
   "execution_count": 16,
   "metadata": {},
   "outputs": [],
   "source": [
    "outfile.close()\n",
    "human_outfile.close()"
   ]
  }
 ],
 "metadata": {
  "kernelspec": {
   "display_name": "Python 3",
   "language": "python",
   "name": "python3"
  },
  "language_info": {
   "codemirror_mode": {
    "name": "ipython",
    "version": 3
   },
   "file_extension": ".py",
   "mimetype": "text/x-python",
   "name": "python",
   "nbconvert_exporter": "python",
   "pygments_lexer": "ipython3",
   "version": "3.6.5"
  }
 },
 "nbformat": 4,
 "nbformat_minor": 2
}
