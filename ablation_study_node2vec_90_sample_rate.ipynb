{
 "cells": [
  {
   "cell_type": "code",
   "execution_count": 1,
   "metadata": {},
   "outputs": [],
   "source": [
    "from random import random, sample"
   ]
  },
  {
   "cell_type": "code",
   "execution_count": 2,
   "metadata": {},
   "outputs": [],
   "source": [
    "sample_rate = .9\n",
    "sr_str = str(int(sample_rate*100))"
   ]
  },
  {
   "cell_type": "code",
   "execution_count": 3,
   "metadata": {},
   "outputs": [],
   "source": [
    "# f = open('data/string_nonzero_experiments.csv')\n",
    "# num_links=0\n",
    "# for line in f:\n",
    "#     num_links+=1\n",
    "# print(num_links)\n",
    "\n",
    "# f = open('data/string_nonzero_experiments.csv')\n",
    "# proteins = set()\n",
    "# pairs = set()\n",
    "# uniq_pair_file = open('data/unique_string_nonzero_experiments.csv','w')\n",
    "# uniq_protein_file = open('data/unique_experiment_protein_ids.csv','w')\n",
    "\n",
    "# next(f)\n",
    "# for line in f:\n",
    "#     source, target, score = line.strip().split(',')\n",
    "    \n",
    "#     if source not in proteins:\n",
    "#         uniq_protein_file.write(source + '\\n')\n",
    "#     proteins.add(source)\n",
    "    \n",
    "#     if target not in proteins:\n",
    "#         uniq_protein_file.write(target + '\\n')\n",
    "#     proteins.add(target)\n",
    "    \n",
    "#     if (source,target) not in pairs:\n",
    "#         uniq_pair_file.write(line)\n",
    "#     pairs.add((source,target))\n",
    "\n",
    "# print(len(proteins))\n",
    "# print(len(pairs))\n",
    "# uniq_pair_file.close()\n",
    "# uniq_protein_file.close()\n",
    "\n",
    "# f = open('data/string_nonzero_experiments.csv')\n",
    "\n",
    "# train_file = open('data/protein_pairs/train_split_' + sr_str + '.dat','w')\n",
    "# test_file = open('data/protein_pairs/test_split_' + sr_str + '.dat','w')\n",
    "# validation_file = open('data/protein_pairs/validation_split_' + sr_str + '.dat','w')\n",
    "# train_neg_file = open('data/protein_pairs/train_neg_split_' + sr_str + '.dat','w')\n",
    "# test_neg_file = open('data/protein_pairs/test_neg_split_' + sr_str + '.dat','w')\n",
    "# validation_neg_file = open('data/protein_pairs/validation_neg_split_' + sr_str + '.dat','w')\n",
    "\n",
    "# header = next(f)\n",
    "# train_file.write(header)\n",
    "# test_file.write(header)\n",
    "# validation_file.write(header)\n",
    "\n",
    "# for line in f:\n",
    "#     r = random()\n",
    "#     negative = tuple(sample(proteins, 2))\n",
    "#     while negative in pairs:\n",
    "#         negative = tuple(sample(proteins, 2))\n",
    "#     # Training set size determined by sampling rate\n",
    "#     if r >= sample_rate:\n",
    "#         train_file.write(line)\n",
    "#         train_neg_file.write(','.join(negative) + ',0\\n')\n",
    "#     else:\n",
    "#         # Split non-training data into test/validation equally\n",
    "#         r = random()\n",
    "#         if r >= .5:\n",
    "#             test_file.write(line)\n",
    "#             test_neg_file.write(','.join(negative) + ',0\\n')\n",
    "#         else:\n",
    "#             validation_file.write(line)\n",
    "#             validation_neg_file.write(','.join(negative) + ',0\\n')\n",
    "\n",
    "\n",
    "# train_file.close()\n",
    "# test_file.close()\n",
    "# validation_file.close()\n",
    "# train_neg_file.close()\n",
    "# test_neg_file.close()\n",
    "# validation_neg_file.close()\n",
    "# f.close()"
   ]
  },
  {
   "cell_type": "code",
   "execution_count": 4,
   "metadata": {},
   "outputs": [
    {
     "name": "stderr",
     "output_type": "stream",
     "text": [
      "C:\\dev\\Anaconda3\\lib\\site-packages\\gensim\\utils.py:1209: UserWarning: detected Windows; aliasing chunkize to chunkize_serial\n",
      "  warnings.warn(\"detected Windows; aliasing chunkize to chunkize_serial\")\n"
     ]
    }
   ],
   "source": [
    "import gensim\n",
    "from node2vec import Node2Vec"
   ]
  },
  {
   "cell_type": "code",
   "execution_count": 5,
   "metadata": {},
   "outputs": [
    {
     "name": "stderr",
     "output_type": "stream",
     "text": [
      "C:\\dev\\Anaconda3\\lib\\site-packages\\h5py\\__init__.py:36: FutureWarning: Conversion of the second argument of issubdtype from `float` to `np.floating` is deprecated. In future, it will be treated as `np.float64 == np.dtype(float).type`.\n",
      "  from ._conv import register_converters as _register_converters\n",
      "Using TensorFlow backend.\n"
     ]
    }
   ],
   "source": [
    "import keras\n",
    "import tensorflow as tf\n",
    "import numpy as np"
   ]
  },
  {
   "cell_type": "code",
   "execution_count": 6,
   "metadata": {},
   "outputs": [],
   "source": [
    "class Sequences:\n",
    "    def __init__(self, filename):\n",
    "        self.filename = filename\n",
    "        self.f = open(self.filename)\n",
    "    \n",
    "    # this function is called each epoch of gensim training\n",
    "    def __iter__(self):\n",
    "        self.f = open(self.filename)\n",
    "        return self\n",
    "    \n",
    "    def __next__(self):\n",
    "        line = next(self.f)\n",
    "        id,sequence = line.strip().split(',')\n",
    "        sequence = sequence.split(' ')\n",
    "        return gensim.models.doc2vec.TaggedDocument(tags=[id], words=sequence)"
   ]
  },
  {
   "cell_type": "code",
   "execution_count": 7,
   "metadata": {},
   "outputs": [],
   "source": [
    "from keras.models import Sequential\n",
    "from keras.layers import Dense, Dropout"
   ]
  },
  {
   "cell_type": "code",
   "execution_count": 8,
   "metadata": {},
   "outputs": [],
   "source": [
    "from sklearn.metrics import classification_report, precision_recall_curve, precision_score, recall_score, accuracy_score, f1_score"
   ]
  },
  {
   "cell_type": "code",
   "execution_count": 9,
   "metadata": {},
   "outputs": [],
   "source": [
    "from sklearn.utils.fixes import signature\n",
    "import matplotlib.pyplot as plt\n",
    "\n",
    "from sklearn.metrics import roc_curve, roc_auc_score\n",
    "from sklearn.metrics import average_precision_score"
   ]
  },
  {
   "cell_type": "code",
   "execution_count": 10,
   "metadata": {},
   "outputs": [],
   "source": [
    "d2v_epochs = 21\n",
    "d2v_vector_size = 99\n",
    "d2v_window = 8\n",
    "d2v_min_count = 9\n",
    "n2v_dimensions = 104\n",
    "n2v_window = 6\n",
    "n2v_epochs = 30\n",
    "n2v_num_walks = 32\n",
    "n2v_walk_length = 27\n",
    "n2v_p = 4\n",
    "n2v_q = 2\n",
    "nn_dropout = 0.22818154872598262"
   ]
  },
  {
   "cell_type": "markdown",
   "metadata": {},
   "source": [
    "### Doc2Vec only"
   ]
  },
  {
   "cell_type": "code",
   "execution_count": 11,
   "metadata": {},
   "outputs": [
    {
     "name": "stdout",
     "output_type": "stream",
     "text": [
      "Walk iteration: \n",
      "1 / 32\n",
      "num walks 11030\n",
      "2 / 32\n",
      "num walks 22060\n",
      "3 / 32\n",
      "num walks 33090\n",
      "4 / 32\n",
      "num walks 44120\n",
      "5 / 32\n",
      "num walks 55150\n",
      "6 / 32\n",
      "num walks 66180\n",
      "7 / 32\n",
      "num walks 77210\n",
      "8 / 32\n",
      "num walks 88240\n",
      "9 / 32\n",
      "num walks 99270\n",
      "10 / 32\n",
      "num walks 110300\n",
      "11 / 32\n",
      "num walks 121330\n",
      "12 / 32\n",
      "num walks 132360\n",
      "13 / 32\n",
      "num walks 143390\n",
      "14 / 32\n",
      "num walks 154420\n",
      "15 / 32\n",
      "num walks 165450\n",
      "16 / 32\n",
      "num walks 176480\n",
      "17 / 32\n",
      "num walks 187510\n",
      "18 / 32\n",
      "num walks 198540\n",
      "19 / 32\n",
      "num walks 209570\n",
      "20 / 32\n",
      "num walks 220600\n",
      "21 / 32\n",
      "num walks 231630\n",
      "22 / 32\n",
      "num walks 242660\n",
      "23 / 32\n",
      "num walks 253690\n",
      "24 / 32\n",
      "num walks 264720\n",
      "25 / 32\n",
      "num walks 275750\n",
      "26 / 32\n",
      "num walks 286780\n",
      "27 / 32\n",
      "num walks 297810\n",
      "28 / 32\n",
      "num walks 308840\n",
      "29 / 32\n",
      "num walks 319870\n",
      "30 / 32\n",
      "num walks 330900\n",
      "31 / 32\n",
      "num walks 341930\n",
      "32 / 32\n",
      "num walks 352960\n",
      "--------------------------Node2Vec similarity to BRCA1--------------------------\n",
      "('Q6PJG6|BRAT1_HUMAN', 0.7162761092185974)\n",
      "('Q9NVH0|EXD2_HUMAN', 0.6620948314666748)\n",
      "('Q9NW13|RBM28_HUMAN', 0.638830840587616)\n",
      "('Q659A1|ICE2_HUMAN', 0.6161782741546631)\n",
      "('Q02447|SP3_HUMAN', 0.6114009618759155)\n",
      "('Q00536|CDK16_HUMAN', 0.6082825660705566)\n",
      "('Q01543|FLI1_HUMAN', 0.6060502529144287)\n",
      "('Q14527|HLTF_HUMAN', 0.5990496873855591)\n",
      "('Q96SD1|DCR1C_HUMAN', 0.5891486406326294)\n",
      "('Q16254|E2F4_HUMAN', 0.5890509486198425)\n"
     ]
    },
    {
     "name": "stderr",
     "output_type": "stream",
     "text": [
      "C:\\dev\\Anaconda3\\lib\\site-packages\\gensim\\matutils.py:737: FutureWarning: Conversion of the second argument of issubdtype from `int` to `np.signedinteger` is deprecated. In future, it will be treated as `np.int32 == np.dtype(int).type`.\n",
      "  if np.issubdtype(vec.dtype, np.int):\n"
     ]
    }
   ],
   "source": [
    "training_edgelist_file = 'data/protein_pairs/train_split_' + sr_str + '.dat'\n",
    "\n",
    "# print('Training Node2Vec'.center(80,'-'))\n",
    "n2v = Node2Vec()\n",
    "model = n2v.fit_transform(training_edgelist_file,\n",
    "                          dimensions=n2v_dimensions, \n",
    "                          window=n2v_window,\n",
    "                          epochs=n2v_epochs,\n",
    "                          num_walks=n2v_num_walks, \n",
    "                          walk_length=n2v_walk_length, \n",
    "                          p=n2v_p, \n",
    "                          q=n2v_q,\n",
    "                         )\n",
    "\n",
    "# n2v.model.save('models/node2vec.model')\n",
    "\n",
    "# vectorfilename = 'data/vectors/node2vec_sample{}_p{}_q{}.dat'.format(sr_str, p, q)\n",
    "# vector_file = open(vectorfilename, 'w')\n",
    "# for i,n in enumerate(n2v.G.nodes):\n",
    "#     vector_file.write(n + ',' + ','.join([str(_) for _ in model.wv.vectors[i,:]]) + '\\n')\n",
    "# vector_file.close()\n",
    "\n",
    "print('Node2Vec similarity to BRCA1'.center(80,'-'))\n",
    "for v in n2v.model.wv.most_similar('P38398|BRCA1_HUMAN'):\n",
    "    print(v)\n",
    "\n",
    "#### doc2vec\n",
    "\n",
    "filename = 'data/split_human_uniprot_sequences.dat'\n",
    "sequences = Sequences(filename)\n",
    "# print('Training doc2vec'.center(80,'-'))\n",
    "\n",
    "# doc2vec = gensim.models.Doc2Vec(\n",
    "#     documents=sequences,\n",
    "#     epochs=d2v_epochs,\n",
    "#     dm=1,\n",
    "#     vector_size=d2v_vector_size,\n",
    "#     window=d2v_window,\n",
    "#     min_count=d2v_min_count\n",
    "# )\n",
    "\n",
    "# doc2vec.save('models/doc2vec.model')\n",
    "\n",
    "# print('Doc2Vec similarity to BRCA1'.center(80,'-'))\n",
    "# for v in doc2vec.docvecs.most_similar(positive=['P38398|BRCA1_HUMAN']):\n",
    "#     print(v)"
   ]
  },
  {
   "cell_type": "code",
   "execution_count": 12,
   "metadata": {},
   "outputs": [
    {
     "name": "stdout",
     "output_type": "stream",
     "text": [
      "------------------Generating Training and validation datasets-------------------\n",
      "Training data shape\n",
      "x (55533, 208)\n",
      "y (55533, 1)\n"
     ]
    }
   ],
   "source": [
    "vectors = dict()\n",
    "for protein in n2v.model.wv.index2word:\n",
    "    v = n2v.model.wv[protein]\n",
    "    vectors[protein] = v\n",
    "\n",
    "print('Generating Training and validation datasets'.center(80,'-'))\n",
    "\n",
    "train_file = open('data/protein_pairs/train_split_' + sr_str + '.dat')\n",
    "header = next(train_file)\n",
    "x_train = []\n",
    "y_train = []\n",
    "\n",
    "for line in train_file:\n",
    "    source, target, score = line.strip().split(',')\n",
    "    if source in vectors and target in vectors:\n",
    "        vs = vectors[source]\n",
    "        vt = vectors[target]\n",
    "        x_train.append(np.append(vs,vt))\n",
    "        y_train.append(np.array([1]))\n",
    "\n",
    "train_neg_file = open('data/protein_pairs/train_neg_split_' + sr_str + '.dat')\n",
    "header = next(train_neg_file)\n",
    "\n",
    "for line in train_neg_file:\n",
    "    source, target, score = line.strip().split(',')\n",
    "    if source in vectors and target in vectors:\n",
    "        vs = vectors[source]\n",
    "        vt = vectors[target]\n",
    "        x_train.append(np.append(vs,vt))\n",
    "        y_train.append(np.array([0]))\n",
    "\n",
    "x_train = np.array(x_train)\n",
    "y_train = np.array(y_train)\n",
    "\n",
    "print('Training data shape')\n",
    "print('x',x_train.shape)\n",
    "print('y',y_train.shape)\n",
    "\n",
    "validation_file = open('data/protein_pairs/validation_split_' + sr_str + '.dat')\n",
    "header = next(validation_file)\n",
    "x_validation = []\n",
    "y_validation = []\n",
    "\n",
    "for line in validation_file:\n",
    "    source, target, score = line.strip().split(',')\n",
    "    if source in vectors and target in vectors:\n",
    "        vs = vectors[source]\n",
    "        vt = vectors[target]\n",
    "        x_validation.append(np.append(vs,vt))\n",
    "#             y_validation.append(np.array([1,0]))\n",
    "        y_validation.append(np.array([1]))\n",
    "\n",
    "validation_neg_file = open('data/protein_pairs/validation_neg_split_' + sr_str + '.dat')\n",
    "header = next(validation_neg_file)"
   ]
  },
  {
   "cell_type": "code",
   "execution_count": 13,
   "metadata": {},
   "outputs": [
    {
     "name": "stdout",
     "output_type": "stream",
     "text": [
      "(239059, 208)\n",
      "(239059, 1)\n"
     ]
    }
   ],
   "source": [
    "for line in validation_neg_file:\n",
    "    source, target, score = line.strip().split(',')\n",
    "    if source in vectors and target in vectors:\n",
    "        vs = vectors[source]\n",
    "        vt = vectors[target]\n",
    "        x_validation.append(np.append(vs,vt))\n",
    "#             y_validation.append(np.array([0,1]))\n",
    "        y_validation.append(np.array([0]))\n",
    "\n",
    "x_validation = np.array(x_validation)\n",
    "y_validation = np.array(y_validation)\n",
    "\n",
    "print(x_validation.shape)\n",
    "print(y_validation.shape)"
   ]
  },
  {
   "cell_type": "code",
   "execution_count": 14,
   "metadata": {},
   "outputs": [
    {
     "name": "stdout",
     "output_type": "stream",
     "text": [
      "----------------------------Training Neural Network-----------------------------\n",
      "Epoch 1/10\n",
      "55533/55533 [==============================] - 10s 176us/step - loss: 0.3887 - binary_accuracy: 0.82094s - loss: 0.4670 - binary_accuracy: 0.774 - ETA: 4s - loss: 0.4646 - binary_ac - ETA: 2s - loss: 0.4346 - binary_acc - ETA: 1s - loss: 0.4118 - binary_\n",
      "Epoch 2/10\n",
      "55533/55533 [==============================] - 7s 130us/step - loss: 0.1675 - binary_accuracy: 0.9369\n",
      "Epoch 3/10\n",
      "55533/55533 [==============================] - 7s 133us/step - loss: 0.1166 - binary_accuracy: 0.9572 1s - loss: 0.1149 - \n",
      "Epoch 4/10\n",
      "55533/55533 [==============================] - 8s 137us/step - loss: 0.0920 - binary_accuracy: 0.9664\n",
      "Epoch 5/10\n",
      "55533/55533 [==============================] - 7s 134us/step - loss: 0.0806 - binary_accuracy: 0.9708 2s - loss: 0.0777 - binary_accurac - ETA: 1s - loss: 0.\n",
      "Epoch 6/10\n",
      "55533/55533 [==============================] - 7s 132us/step - loss: 0.0712 - binary_accuracy: 0.9741 0s - loss: 0.0709 - binary_a\n",
      "Epoch 7/10\n",
      "55533/55533 [==============================] - 7s 134us/step - loss: 0.0649 - binary_accuracy: 0.9779 0s - loss: 0.0641 - binary_\n",
      "Epoch 8/10\n",
      "55533/55533 [==============================] - 7s 133us/step - loss: 0.0601 - binary_accuracy: 0.9795 7s - loss: 0.0580 -  - ETA: 5s - loss: 0.0553 - bi - ETA: 4s - loss: 0.0560 - ETA: 2s - loss: 0.0579 - binary_accuracy: 0 - ETA: 2s - loss: 0.0584 - bi - ETA: 1s - loss: 0.0591 - binary_accuracy: - ETA: 0s - loss: 0.0593 - binary_accuracy: - ETA: 0s - loss: 0.0601 - binary_accuracy: 0.9\n",
      "Epoch 9/10\n",
      "55533/55533 [==============================] - 7s 133us/step - loss: 0.0550 - binary_accuracy: 0.9810 5s - loss:  - ETA: 3s - l - ETA: 1s - loss: 0.0543 - bina\n",
      "Epoch 10/10\n",
      "55533/55533 [==============================] - 8s 141us/step - loss: 0.0522 - binary_accuracy: 0.9820 5s - loss: 0.0541 - binary_accuracy\n",
      "55533/55533 [==============================] - 1s 11us/step\n",
      "239059/239059 [==============================] - 3s 10us/step\n",
      "Training accuracy: \n",
      "[0.009899117127620358, 0.9971008229341113]\n"
     ]
    }
   ],
   "source": [
    "print('Training Neural Network'.center(80,'-'))\n",
    "\n",
    "model = Sequential()\n",
    "\n",
    "# input_size = (d2v_vector_size + n2v_dimensions)*2\n",
    "input_size = (n2v_dimensions)*2\n",
    "\n",
    "model.add(Dense(units=256, activation='relu', input_dim=input_size))\n",
    "model.add(Dropout(nn_dropout))\n",
    "model.add(Dense(units=128, activation='relu', input_dim=256))\n",
    "model.add(Dropout(nn_dropout))\n",
    "model.add(Dense(units=64, activation='relu', input_dim=128))\n",
    "model.add(Dropout(nn_dropout))\n",
    "model.add(Dense(units=1, activation='sigmoid'))\n",
    "\n",
    "model.compile(loss='binary_crossentropy',\n",
    "              optimizer='rmsprop',\n",
    "              metrics=['binary_accuracy'])\n",
    "\n",
    "# x_train and y_train are Numpy arrays --just like in the Scikit-Learn API.\n",
    "model.fit(x_train, y_train, epochs=10, batch_size=32)\n",
    "\n",
    "training_accuracy = model.evaluate(x_train, y_train, batch_size=128)\n",
    "validation_accuracy = model.evaluate(x_validation, y_validation, batch_size=128)\n",
    "print('Training accuracy: ')\n",
    "print(training_accuracy)"
   ]
  },
  {
   "cell_type": "markdown",
   "metadata": {},
   "source": [
    "#### Generating test data"
   ]
  },
  {
   "cell_type": "code",
   "execution_count": 15,
   "metadata": {},
   "outputs": [
    {
     "name": "stdout",
     "output_type": "stream",
     "text": [
      "(238231, 208)\n",
      "(238231, 1)\n"
     ]
    }
   ],
   "source": [
    "test_file = open('data/protein_pairs/test_split_' + sr_str + '.dat')\n",
    "header = next(test_file)\n",
    "x_test = []\n",
    "y_test = []\n",
    "\n",
    "for line in test_file:\n",
    "    source, target, score = line.strip().split(',')\n",
    "    if source in vectors and target in vectors:\n",
    "        vs = vectors[source]\n",
    "        vt = vectors[target]\n",
    "        x_test.append(np.append(vs,vt))\n",
    "#             y_test.append(np.array([1,0]))\n",
    "        y_test.append(np.array([1]))\n",
    "\n",
    "test_neg_file = open('data/protein_pairs/test_neg_split_' + sr_str + '.dat')\n",
    "header = next(test_neg_file)\n",
    "\n",
    "for line in test_neg_file:\n",
    "    source, target, score = line.strip().split(',')\n",
    "    if source in vectors and target in vectors:\n",
    "        vs = vectors[source]\n",
    "        vt = vectors[target]\n",
    "        x_test.append(np.append(vs,vt))\n",
    "#             y_test.append(np.array([0,1]))\n",
    "        y_test.append(np.array([0]))\n",
    "\n",
    "x_test = np.array(x_test)\n",
    "y_test = np.array(y_test)\n",
    "\n",
    "print(x_test.shape)\n",
    "print(y_test.shape)"
   ]
  },
  {
   "cell_type": "markdown",
   "metadata": {},
   "source": [
    "### Validation"
   ]
  },
  {
   "cell_type": "code",
   "execution_count": 16,
   "metadata": {},
   "outputs": [
    {
     "name": "stdout",
     "output_type": "stream",
     "text": [
      "239059/239059 [==============================] - 3s 11us/step\n",
      "Validation accuracy: {}\n",
      "[1.932555017485241, 0.6729468457507606]\n"
     ]
    }
   ],
   "source": [
    "validation_accuracy = model.evaluate(x_validation, y_validation, batch_size=128)\n",
    "print('Validation accuracy: {}')\n",
    "print(validation_accuracy)\n",
    "\n",
    "# model.train_on_batch(x_batch, y_batch)\n",
    "\n",
    "y_validation_pred = model.predict_proba(x=x_validation)\n",
    "\n",
    "average_precision = average_precision_score(y_true=y_validation, y_score=y_validation_pred)"
   ]
  },
  {
   "cell_type": "code",
   "execution_count": 17,
   "metadata": {},
   "outputs": [
    {
     "name": "stdout",
     "output_type": "stream",
     "text": [
      "Average precision-recall score: 0.89271\n"
     ]
    },
    {
     "data": {
      "text/plain": [
       "Text(0.5,1,'2-class Precision-Recall curve: AP=0.89271')"
      ]
     },
     "execution_count": 17,
     "metadata": {},
     "output_type": "execute_result"
    },
    {
     "data": {
      "image/png": "[encoded data removed]",
      "text/plain": [
       "<Figure size 432x288 with 1 Axes>"
      ]
     },
     "metadata": {},
     "output_type": "display_data"
    }
   ],
   "source": [
    "print('Average precision-recall score: {0:0.5f}'.format(\n",
    "      average_precision))\n",
    "\n",
    "precision, recall, _ = precision_recall_curve(y_true=y_validation, probas_pred=y_validation_pred)\n",
    "\n",
    "# In matplotlib < 1.5, plt.fill_between does not have a 'step' argument\n",
    "step_kwargs = ({'step': 'post'}\n",
    "               if 'step' in signature(plt.fill_between).parameters\n",
    "               else {})\n",
    "plt.step(recall, precision, color='b', alpha=0.2,\n",
    "         where='post')\n",
    "plt.fill_between(recall, precision, alpha=0.2, color='b', **step_kwargs)\n",
    "\n",
    "plt.xlabel('Recall')\n",
    "plt.ylabel('Precision')\n",
    "plt.ylim([0.0, 1.05])\n",
    "plt.xlim([0.0, 1.0])\n",
    "plt.title('2-class Precision-Recall curve: AP={0:0.5f}'.format(average_precision))"
   ]
  },
  {
   "cell_type": "code",
   "execution_count": 18,
   "metadata": {},
   "outputs": [
    {
     "data": {
      "text/plain": [
       "Text(0.5,1,'2-class ROC curve: AP=0.82213')"
      ]
     },
     "execution_count": 18,
     "metadata": {},
     "output_type": "execute_result"
    },
    {
     "data": {
      "image/png": "[encoded data removed]",
      "text/plain": [
       "<Figure size 432x288 with 1 Axes>"
      ]
     },
     "metadata": {},
     "output_type": "display_data"
    }
   ],
   "source": [
    "fpr, tpr, _ = roc_curve(y_true=y_validation, y_score=y_validation_pred)\n",
    "auroc = roc_auc_score(y_true=y_validation, y_score=y_validation_pred)\n",
    "\n",
    "# In matplotlib < 1.5, plt.fill_between does not have a 'step' argument\n",
    "step_kwargs = ({'step': 'post'}\n",
    "               if 'step' in signature(plt.fill_between).parameters\n",
    "               else {})\n",
    "plt.step(fpr, tpr, color='b', alpha=0.2,\n",
    "         where='post')\n",
    "plt.fill_between(fpr, tpr, alpha=0.2, color='b', **step_kwargs)\n",
    "\n",
    "plt.xlabel('False Positive Rate')\n",
    "plt.ylabel('True Positive Rate')\n",
    "plt.ylim([0.0, 1.05])\n",
    "plt.xlim([0.0, 1.0])\n",
    "plt.title('2-class ROC curve: AP={0:0.5f}'.format(auroc))"
   ]
  },
  {
   "cell_type": "markdown",
   "metadata": {},
   "source": [
    "### Test"
   ]
  },
  {
   "cell_type": "code",
   "execution_count": 19,
   "metadata": {},
   "outputs": [
    {
     "name": "stdout",
     "output_type": "stream",
     "text": [
      "238231/238231 [==============================] - 3s 11us/step\n",
      "Validation accuracy: {}\n",
      "[1.9355713782197301, 0.6729560804429314]\n"
     ]
    }
   ],
   "source": [
    "test_accuracy = model.evaluate(x_test, y_test, batch_size=128)\n",
    "print('Validation accuracy: {}')\n",
    "print(test_accuracy)\n",
    "\n",
    "# model.train_on_batch(x_batch, y_batch)\n",
    "\n",
    "y_test_pred = model.predict_proba(x=x_test)\n",
    "\n",
    "average_precision = average_precision_score(y_true=y_test, y_score=y_test_pred)"
   ]
  },
  {
   "cell_type": "code",
   "execution_count": 20,
   "metadata": {},
   "outputs": [
    {
     "name": "stdout",
     "output_type": "stream",
     "text": [
      "Average precision-recall score: 0.89287\n"
     ]
    },
    {
     "data": {
      "text/plain": [
       "Text(0.5,1,'2-class Precision-Recall curve: AP=0.89287')"
      ]
     },
     "execution_count": 20,
     "metadata": {},
     "output_type": "execute_result"
    },
    {
     "data": {
      "image/png": "[encoded data removed]",
      "text/plain": [
       "<Figure size 432x288 with 1 Axes>"
      ]
     },
     "metadata": {},
     "output_type": "display_data"
    }
   ],
   "source": [
    "print('Average precision-recall score: {0:0.5f}'.format(\n",
    "      average_precision))\n",
    "\n",
    "precision, recall, _ = precision_recall_curve(y_true=y_test, probas_pred=y_test_pred)\n",
    "\n",
    "# In matplotlib < 1.5, plt.fill_between does not have a 'step' argument\n",
    "step_kwargs = ({'step': 'post'}\n",
    "               if 'step' in signature(plt.fill_between).parameters\n",
    "               else {})\n",
    "plt.step(recall, precision, color='b', alpha=0.2,\n",
    "         where='post')\n",
    "plt.fill_between(recall, precision, alpha=0.2, color='b', **step_kwargs)\n",
    "\n",
    "plt.xlabel('Recall')\n",
    "plt.ylabel('Precision')\n",
    "plt.ylim([0.0, 1.05])\n",
    "plt.xlim([0.0, 1.0])\n",
    "plt.title('2-class Precision-Recall curve: AP={0:0.5f}'.format(average_precision))"
   ]
  },
  {
   "cell_type": "code",
   "execution_count": 21,
   "metadata": {},
   "outputs": [
    {
     "data": {
      "text/plain": [
       "Text(0.5,1,'2-class ROC curve: AP=0.82146')"
      ]
     },
     "execution_count": 21,
     "metadata": {},
     "output_type": "execute_result"
    },
    {
     "data": {
      "image/png": "[encoded data removed]",
      "text/plain": [
       "<Figure size 432x288 with 1 Axes>"
      ]
     },
     "metadata": {},
     "output_type": "display_data"
    }
   ],
   "source": [
    "fpr, tpr, _ = roc_curve(y_true=y_test, y_score=y_test_pred)\n",
    "auroc = roc_auc_score(y_true=y_test, y_score=y_test_pred)\n",
    "\n",
    "# In matplotlib < 1.5, plt.fill_between does not have a 'step' argument\n",
    "step_kwargs = ({'step': 'post'}\n",
    "               if 'step' in signature(plt.fill_between).parameters\n",
    "               else {})\n",
    "plt.step(fpr, tpr, color='b', alpha=0.2,\n",
    "         where='post')\n",
    "plt.fill_between(fpr, tpr, alpha=0.2, color='b', **step_kwargs)\n",
    "\n",
    "plt.xlabel('False Positive Rate')\n",
    "plt.ylabel('True Positive Rate')\n",
    "plt.ylim([0.0, 1.05])\n",
    "plt.xlim([0.0, 1.0])\n",
    "plt.title('2-class ROC curve: AP={0:0.5f}'.format(auroc))"
   ]
  },
  {
   "cell_type": "code",
   "execution_count": null,
   "metadata": {},
   "outputs": [],
   "source": []
  }
 ],
 "metadata": {
  "kernelspec": {
   "display_name": "Python 3",
   "language": "python",
   "name": "python3"
  },
  "language_info": {
   "codemirror_mode": {
    "name": "ipython",
    "version": 3
   },
   "file_extension": ".py",
   "mimetype": "text/x-python",
   "name": "python",
   "nbconvert_exporter": "python",
   "pygments_lexer": "ipython3",
   "version": "3.6.5"
  }
 },
 "nbformat": 4,
 "nbformat_minor": 2
}
