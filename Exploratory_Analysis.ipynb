{
 "cells": [
  {
   "cell_type": "markdown",
   "metadata": {},
   "source": [
    "Dataset is STRING database (https://string-db.org/) \n",
    "Accessed Sep 24 2018\n",
    "protein network data (incl. distinction: direct vs. interologs)"
   ]
  },
  {
   "cell_type": "code",
   "execution_count": 2,
   "metadata": {},
   "outputs": [],
   "source": [
    "import pandas as pd"
   ]
  },
  {
   "cell_type": "code",
   "execution_count": 13,
   "metadata": {},
   "outputs": [],
   "source": [
    "f = open('9606.protein.links.full.v10.5.txt')\n",
    "df = pd.read_csv(f, delimiter=' ')"
   ]
  },
  {
   "cell_type": "markdown",
   "metadata": {},
   "source": [
    "##### Number of edges"
   ]
  },
  {
   "cell_type": "code",
   "execution_count": 14,
   "metadata": {},
   "outputs": [
    {
     "data": {
      "text/plain": [
       "11353056"
      ]
     },
     "execution_count": 14,
     "metadata": {},
     "output_type": "execute_result"
    }
   ],
   "source": [
    "len(df)"
   ]
  },
  {
   "cell_type": "code",
   "execution_count": 19,
   "metadata": {},
   "outputs": [
    {
     "name": "stdout",
     "output_type": "stream",
     "text": [
      "['protein1' 'protein2' 'neighborhood' 'neighborhood_transferred' 'fusion'\n",
      " 'cooccurence' 'homology' 'coexpression' 'coexpression_transferred'\n",
      " 'experiments' 'experiments_transferred' 'database' 'database_transferred'\n",
      " 'textmining' 'textmining_transferred' 'combined_score']\n"
     ]
    }
   ],
   "source": [
    "print(df.columns.values)"
   ]
  },
  {
   "cell_type": "code",
   "execution_count": 21,
   "metadata": {},
   "outputs": [
    {
     "data": {
      "text/html": [
       "<div>\n",
       "<style scoped>\n",
       "    .dataframe tbody tr th:only-of-type {\n",
       "        vertical-align: middle;\n",
       "    }\n",
       "\n",
       "    .dataframe tbody tr th {\n",
       "        vertical-align: top;\n",
       "    }\n",
       "\n",
       "    .dataframe thead th {\n",
       "        text-align: right;\n",
       "    }\n",
       "</style>\n",
       "<table border=\"1\" class=\"dataframe\">\n",
       "  <thead>\n",
       "    <tr style=\"text-align: right;\">\n",
       "      <th></th>\n",
       "      <th>neighborhood</th>\n",
       "      <th>neighborhood_transferred</th>\n",
       "      <th>fusion</th>\n",
       "      <th>cooccurence</th>\n",
       "      <th>homology</th>\n",
       "      <th>coexpression</th>\n",
       "      <th>coexpression_transferred</th>\n",
       "      <th>experiments</th>\n",
       "      <th>experiments_transferred</th>\n",
       "      <th>database</th>\n",
       "      <th>database_transferred</th>\n",
       "      <th>textmining</th>\n",
       "      <th>textmining_transferred</th>\n",
       "      <th>combined_score</th>\n",
       "    </tr>\n",
       "  </thead>\n",
       "  <tbody>\n",
       "    <tr>\n",
       "      <th>count</th>\n",
       "      <td>11353056.0</td>\n",
       "      <td>1.135306e+07</td>\n",
       "      <td>1.135306e+07</td>\n",
       "      <td>1.135306e+07</td>\n",
       "      <td>1.135306e+07</td>\n",
       "      <td>1.135306e+07</td>\n",
       "      <td>1.135306e+07</td>\n",
       "      <td>1.135306e+07</td>\n",
       "      <td>1.135306e+07</td>\n",
       "      <td>1.135306e+07</td>\n",
       "      <td>1.135306e+07</td>\n",
       "      <td>1.135306e+07</td>\n",
       "      <td>1.135306e+07</td>\n",
       "      <td>1.135306e+07</td>\n",
       "    </tr>\n",
       "    <tr>\n",
       "      <th>mean</th>\n",
       "      <td>0.0</td>\n",
       "      <td>5.500989e+00</td>\n",
       "      <td>2.989662e-02</td>\n",
       "      <td>1.785854e+00</td>\n",
       "      <td>1.064074e+01</td>\n",
       "      <td>3.164314e+01</td>\n",
       "      <td>5.034718e+01</td>\n",
       "      <td>1.071035e+01</td>\n",
       "      <td>6.639233e+01</td>\n",
       "      <td>4.497823e+01</td>\n",
       "      <td>2.562406e+00</td>\n",
       "      <td>7.682957e+01</td>\n",
       "      <td>7.719637e+01</td>\n",
       "      <td>2.776468e+02</td>\n",
       "    </tr>\n",
       "    <tr>\n",
       "      <th>std</th>\n",
       "      <td>0.0</td>\n",
       "      <td>2.985812e+01</td>\n",
       "      <td>3.261880e+00</td>\n",
       "      <td>2.794559e+01</td>\n",
       "      <td>8.687206e+01</td>\n",
       "      <td>7.335344e+01</td>\n",
       "      <td>7.570986e+01</td>\n",
       "      <td>6.944814e+01</td>\n",
       "      <td>9.550636e+01</td>\n",
       "      <td>1.940709e+02</td>\n",
       "      <td>3.050965e+01</td>\n",
       "      <td>1.311175e+02</td>\n",
       "      <td>9.097634e+01</td>\n",
       "      <td>1.875076e+02</td>\n",
       "    </tr>\n",
       "    <tr>\n",
       "      <th>min</th>\n",
       "      <td>0.0</td>\n",
       "      <td>0.000000e+00</td>\n",
       "      <td>0.000000e+00</td>\n",
       "      <td>0.000000e+00</td>\n",
       "      <td>0.000000e+00</td>\n",
       "      <td>0.000000e+00</td>\n",
       "      <td>0.000000e+00</td>\n",
       "      <td>0.000000e+00</td>\n",
       "      <td>0.000000e+00</td>\n",
       "      <td>0.000000e+00</td>\n",
       "      <td>0.000000e+00</td>\n",
       "      <td>0.000000e+00</td>\n",
       "      <td>0.000000e+00</td>\n",
       "      <td>1.500000e+02</td>\n",
       "    </tr>\n",
       "    <tr>\n",
       "      <th>25%</th>\n",
       "      <td>0.0</td>\n",
       "      <td>0.000000e+00</td>\n",
       "      <td>0.000000e+00</td>\n",
       "      <td>0.000000e+00</td>\n",
       "      <td>0.000000e+00</td>\n",
       "      <td>0.000000e+00</td>\n",
       "      <td>0.000000e+00</td>\n",
       "      <td>0.000000e+00</td>\n",
       "      <td>0.000000e+00</td>\n",
       "      <td>0.000000e+00</td>\n",
       "      <td>0.000000e+00</td>\n",
       "      <td>0.000000e+00</td>\n",
       "      <td>0.000000e+00</td>\n",
       "      <td>1.710000e+02</td>\n",
       "    </tr>\n",
       "    <tr>\n",
       "      <th>50%</th>\n",
       "      <td>0.0</td>\n",
       "      <td>0.000000e+00</td>\n",
       "      <td>0.000000e+00</td>\n",
       "      <td>0.000000e+00</td>\n",
       "      <td>0.000000e+00</td>\n",
       "      <td>0.000000e+00</td>\n",
       "      <td>5.200000e+01</td>\n",
       "      <td>0.000000e+00</td>\n",
       "      <td>0.000000e+00</td>\n",
       "      <td>0.000000e+00</td>\n",
       "      <td>0.000000e+00</td>\n",
       "      <td>0.000000e+00</td>\n",
       "      <td>6.700000e+01</td>\n",
       "      <td>2.050000e+02</td>\n",
       "    </tr>\n",
       "    <tr>\n",
       "      <th>75%</th>\n",
       "      <td>0.0</td>\n",
       "      <td>0.000000e+00</td>\n",
       "      <td>0.000000e+00</td>\n",
       "      <td>0.000000e+00</td>\n",
       "      <td>0.000000e+00</td>\n",
       "      <td>0.000000e+00</td>\n",
       "      <td>6.100000e+01</td>\n",
       "      <td>0.000000e+00</td>\n",
       "      <td>1.130000e+02</td>\n",
       "      <td>0.000000e+00</td>\n",
       "      <td>0.000000e+00</td>\n",
       "      <td>1.420000e+02</td>\n",
       "      <td>1.060000e+02</td>\n",
       "      <td>2.880000e+02</td>\n",
       "    </tr>\n",
       "    <tr>\n",
       "      <th>max</th>\n",
       "      <td>0.0</td>\n",
       "      <td>8.240000e+02</td>\n",
       "      <td>8.740000e+02</td>\n",
       "      <td>5.270000e+02</td>\n",
       "      <td>9.910000e+02</td>\n",
       "      <td>8.840000e+02</td>\n",
       "      <td>9.520000e+02</td>\n",
       "      <td>9.530000e+02</td>\n",
       "      <td>9.990000e+02</td>\n",
       "      <td>9.000000e+02</td>\n",
       "      <td>6.430000e+02</td>\n",
       "      <td>9.780000e+02</td>\n",
       "      <td>7.690000e+02</td>\n",
       "      <td>9.990000e+02</td>\n",
       "    </tr>\n",
       "  </tbody>\n",
       "</table>\n",
       "</div>"
      ],
      "text/plain": [
       "       neighborhood  neighborhood_transferred        fusion   cooccurence  \\\n",
       "count    11353056.0              1.135306e+07  1.135306e+07  1.135306e+07   \n",
       "mean            0.0              5.500989e+00  2.989662e-02  1.785854e+00   \n",
       "std             0.0              2.985812e+01  3.261880e+00  2.794559e+01   \n",
       "min             0.0              0.000000e+00  0.000000e+00  0.000000e+00   \n",
       "25%             0.0              0.000000e+00  0.000000e+00  0.000000e+00   \n",
       "50%             0.0              0.000000e+00  0.000000e+00  0.000000e+00   \n",
       "75%             0.0              0.000000e+00  0.000000e+00  0.000000e+00   \n",
       "max             0.0              8.240000e+02  8.740000e+02  5.270000e+02   \n",
       "\n",
       "           homology  coexpression  coexpression_transferred   experiments  \\\n",
       "count  1.135306e+07  1.135306e+07              1.135306e+07  1.135306e+07   \n",
       "mean   1.064074e+01  3.164314e+01              5.034718e+01  1.071035e+01   \n",
       "std    8.687206e+01  7.335344e+01              7.570986e+01  6.944814e+01   \n",
       "min    0.000000e+00  0.000000e+00              0.000000e+00  0.000000e+00   \n",
       "25%    0.000000e+00  0.000000e+00              0.000000e+00  0.000000e+00   \n",
       "50%    0.000000e+00  0.000000e+00              5.200000e+01  0.000000e+00   \n",
       "75%    0.000000e+00  0.000000e+00              6.100000e+01  0.000000e+00   \n",
       "max    9.910000e+02  8.840000e+02              9.520000e+02  9.530000e+02   \n",
       "\n",
       "       experiments_transferred      database  database_transferred  \\\n",
       "count             1.135306e+07  1.135306e+07          1.135306e+07   \n",
       "mean              6.639233e+01  4.497823e+01          2.562406e+00   \n",
       "std               9.550636e+01  1.940709e+02          3.050965e+01   \n",
       "min               0.000000e+00  0.000000e+00          0.000000e+00   \n",
       "25%               0.000000e+00  0.000000e+00          0.000000e+00   \n",
       "50%               0.000000e+00  0.000000e+00          0.000000e+00   \n",
       "75%               1.130000e+02  0.000000e+00          0.000000e+00   \n",
       "max               9.990000e+02  9.000000e+02          6.430000e+02   \n",
       "\n",
       "         textmining  textmining_transferred  combined_score  \n",
       "count  1.135306e+07            1.135306e+07    1.135306e+07  \n",
       "mean   7.682957e+01            7.719637e+01    2.776468e+02  \n",
       "std    1.311175e+02            9.097634e+01    1.875076e+02  \n",
       "min    0.000000e+00            0.000000e+00    1.500000e+02  \n",
       "25%    0.000000e+00            0.000000e+00    1.710000e+02  \n",
       "50%    0.000000e+00            6.700000e+01    2.050000e+02  \n",
       "75%    1.420000e+02            1.060000e+02    2.880000e+02  \n",
       "max    9.780000e+02            7.690000e+02    9.990000e+02  "
      ]
     },
     "execution_count": 21,
     "metadata": {},
     "output_type": "execute_result"
    }
   ],
   "source": [
    "df.describe()"
   ]
  },
  {
   "cell_type": "code",
   "execution_count": 7,
   "metadata": {},
   "outputs": [],
   "source": [
    "actions_file = open('9606.protein.actions.v10.5.txt')\n",
    "df = pd.read_csv(actions_file, delimiter='\\t')"
   ]
  },
  {
   "cell_type": "code",
   "execution_count": 8,
   "metadata": {},
   "outputs": [
    {
     "data": {
      "text/plain": [
       "array(['item_id_a', 'item_id_b', 'mode', 'action', 'is_directional',\n",
       "       'a_is_acting', 'score'], dtype=object)"
      ]
     },
     "execution_count": 8,
     "metadata": {},
     "output_type": "execute_result"
    }
   ],
   "source": [
    "df.columns.values"
   ]
  },
  {
   "cell_type": "code",
   "execution_count": 12,
   "metadata": {},
   "outputs": [
    {
     "data": {
      "text/plain": [
       "count      4775310\n",
       "unique           7\n",
       "top       reaction\n",
       "freq       1669750\n",
       "Name: mode, dtype: object"
      ]
     },
     "execution_count": 12,
     "metadata": {},
     "output_type": "execute_result"
    }
   ],
   "source": [
    "df['mode'].describe()"
   ]
  }
 ],
 "metadata": {
  "kernelspec": {
   "display_name": "Python 3",
   "language": "python",
   "name": "python3"
  },
  "language_info": {
   "codemirror_mode": {
    "name": "ipython",
    "version": 3
   },
   "file_extension": ".py",
   "mimetype": "text/x-python",
   "name": "python",
   "nbconvert_exporter": "python",
   "pygments_lexer": "ipython3",
   "version": "3.6.5"
  }
 },
 "nbformat": 4,
 "nbformat_minor": 2
}
