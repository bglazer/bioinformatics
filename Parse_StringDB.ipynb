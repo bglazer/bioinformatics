{
 "cells": [
  {
   "cell_type": "markdown",
   "metadata": {},
   "source": [
    "### Read Uniprot mappings"
   ]
  },
  {
   "cell_type": "code",
   "execution_count": 65,
   "metadata": {},
   "outputs": [
    {
     "name": "stdout",
     "output_type": "stream",
     "text": [
      "#species   uniprot_ac|uniprot_id   string_id   identity   bit_score\n",
      "\n"
     ]
    }
   ],
   "source": [
    "mapping_file = open('data/9606_reviewed_uniprot_2_string.04_2015.tsv')\n",
    "print(next(mapping_file))\n",
    "uniprot_mapping = {}\n",
    "for line in mapping_file:\n",
    "    _, uniprot_id, string_id, _, _ = line.split('\\t')\n",
    "    uniprot_mapping[string_id] = uniprot_id"
   ]
  },
  {
   "cell_type": "markdown",
   "metadata": {},
   "source": [
    "### Total number of links (experimental, text_mining, etc)"
   ]
  },
  {
   "cell_type": "code",
   "execution_count": 25,
   "metadata": {},
   "outputs": [
    {
     "name": "stdout",
     "output_type": "stream",
     "text": [
      "11353057\n"
     ]
    }
   ],
   "source": [
    "f = open('data/9606.protein.links.full.v10.5.txt')\n",
    "i=0\n",
    "for line in f:\n",
    "    i += 1\n",
    "print(i)"
   ]
  },
  {
   "cell_type": "markdown",
   "metadata": {},
   "source": [
    "### Links with experimental evidence, matched to Uniprot"
   ]
  },
  {
   "cell_type": "code",
   "execution_count": 86,
   "metadata": {},
   "outputs": [],
   "source": [
    "f = open('data/9606.protein.links.full.v10.5.txt')\n",
    "outfile = open('data/string_nonzero_experiments.csv','w')\n",
    "\n",
    "i=0\n",
    "header = next(f)\n",
    "unmatched_string_ids = set()\n",
    "\n",
    "outfile.write('Source,Target,score\\n')\n",
    "for line in f:\n",
    "    l = line.split(' ')\n",
    "    experiment = l[9]\n",
    "    if int(experiment) > 0:\n",
    "        i += 1\n",
    "        # [5:] is to strip off the leading 9606 (species = human) from the \n",
    "        # protein id in the links file. The mapping file \n",
    "        # has the species id in another column\n",
    "        source = l[0][5:]\n",
    "        target = l[1][5:]\n",
    "        #print(source, target)\n",
    "        #break\n",
    "        score = str(float(l[9])/1000.0)\n",
    "        \n",
    "        if source in uniprot_mapping:\n",
    "            uniprot_id_source = uniprot_mapping[source]\n",
    "        else:\n",
    "            unmatched_string_ids.add(source)\n",
    "            \n",
    "        if target in uniprot_mapping:\n",
    "            uniprot_id_target = uniprot_mapping[target]\n",
    "        else:\n",
    "            unmatched_string_ids.add(target)\n",
    "            \n",
    "        outfile.write(','.join([uniprot_id_source,\n",
    "                                uniprot_id_target,\n",
    "                                score]) + '\\n')\n",
    "\n",
    "outfile.close()\n",
    "nonzero_experiments = i"
   ]
  },
  {
   "cell_type": "code",
   "execution_count": 87,
   "metadata": {},
   "outputs": [
    {
     "name": "stdout",
     "output_type": "stream",
     "text": [
      "357944 total interactions\n",
      "296 unmatched string IDs\n"
     ]
    }
   ],
   "source": [
    "print('{} total interactions'.format(nonzero_experiments))\n",
    "print('{} unmatched string IDs'.format(len(unmatched_string_ids)))"
   ]
  },
  {
   "cell_type": "code",
   "execution_count": 88,
   "metadata": {},
   "outputs": [],
   "source": [
    "unmatched_file = open('data/unmatched_string_to_uniprot.dat','w')\n",
    "for id in unmatched_string_ids:\n",
    "    unmatched_file.write(id + '\\n')\n",
    "unmatched_file.close()"
   ]
  }
 ],
 "metadata": {
  "kernelspec": {
   "display_name": "Python 3",
   "language": "python",
   "name": "python3"
  },
  "language_info": {
   "codemirror_mode": {
    "name": "ipython",
    "version": 3
   },
   "file_extension": ".py",
   "mimetype": "text/x-python",
   "name": "python",
   "nbconvert_exporter": "python",
   "pygments_lexer": "ipython3",
   "version": "3.6.5"
  }
 },
 "nbformat": 4,
 "nbformat_minor": 2
}
